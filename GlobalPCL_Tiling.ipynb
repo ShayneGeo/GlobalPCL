{
 "cells": [
  {
   "cell_type": "code",
   "execution_count": null,
   "id": "913b8db7-7676-47f4-8411-308847288b05",
   "metadata": {},
   "outputs": [],
   "source": [
    "import os\n",
    "from itertools import product\n",
    "import rasterio as rio\n",
    "from rasterio import windows\n",
    "\n",
    "in_path = \"C:\\\\Users\\\\OneDrive\\\\Desktop\\\\PCLCONUS\\\\Input\\\\PCL\\\\\"\n",
    "input_filename = 'pcl_west_wgs.tif' \n",
    "\n",
    "\n",
    "THEFOLDER = \"C:\\\\Users\\\\\\OneDrive\\\\Desktop\\\\GlobalPCL\"\n",
    "out_path = f\"{THEFOLDER}\\\\PCLTILES\\\\\"\n",
    "output_filename = 'pcltile_{}-{}.tif'\n",
    "\n",
    "widthtile = 5000\n",
    "heighttile = 5000\n",
    "\n",
    "def get_tiles(ds, width=widthtile, height=heighttile):\n",
    "    nols, nrows = ds.meta['width'], ds.meta['height']\n",
    "    offsets = product(range(0, nols, width), range(0, nrows, height))\n",
    "    big_window = windows.Window(col_off=0, row_off=0, width=nols, height=nrows)\n",
    "    for col_off, row_off in offsets:\n",
    "        window = windows.Window(col_off=col_off, row_off=row_off, width=width, height=height).intersection(big_window)\n",
    "        transform = windows.transform(window, ds.transform)\n",
    "        yield window, transform\n",
    "\n",
    "os.makedirs(out_path, exist_ok=True)\n",
    "\n",
    "tile_numbers = []\n",
    "\n",
    "with rio.open(os.path.join(in_path, input_filename)) as inds:\n",
    "    tile_width, tile_height = widthtile, heighttile\n",
    "    nodata = inds.nodata\n",
    "    meta = inds.meta.copy()\n",
    "    for window, transform in get_tiles(inds):\n",
    "        data = inds.read(window=window)\n",
    "        if nodata is not None and not (data == nodata).all():\n",
    "            meta['transform'] = transform\n",
    "            meta['width'], meta['height'] = window.width, window.height\n",
    "            tile_number = f\"{int(window.col_off)}-{int(window.row_off)}\"\n",
    "            tile_numbers.append(tile_number)\n",
    "            outpath = os.path.join(out_path, output_filename.format(int(window.col_off), int(window.row_off)))\n",
    "            with rio.open(outpath, 'w', **meta) as outds:\n",
    "                outds.write(data)\n",
    "\n",
    "# Print or store the tile numbers\n",
    "TILENUMBER = tile_numbers\n",
    "\n",
    "del in_path, input_filename, tile_numbers\n",
    "del out_path, output_filename, widthtile, heighttile, tile_width, tile_height\n",
    "del meta, nodata, window, inds, get_tiles"
   ]
  }
 ],
 "metadata": {
  "kernelspec": {
   "display_name": "Python 3 (ipykernel)",
   "language": "python",
   "name": "python3"
  },
  "language_info": {
   "codemirror_mode": {
    "name": "ipython",
    "version": 3
   },
   "file_extension": ".py",
   "mimetype": "text/x-python",
   "name": "python",
   "nbconvert_exporter": "python",
   "pygments_lexer": "ipython3",
   "version": "3.12.2"
  }
 },
 "nbformat": 4,
 "nbformat_minor": 5
}
